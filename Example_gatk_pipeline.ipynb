{
 "cells": [
  {
   "cell_type": "markdown",
   "id": "0482e50b-03bd-4b78-acdd-a594501c5ded",
   "metadata": {
    "kernel": "Bash"
   },
   "source": [
    "## Calling Isabelle's samples"
   ]
  },
  {
   "cell_type": "markdown",
   "id": "5f404ec5-75e4-4a72-b7e7-9587249ef593",
   "metadata": {
    "kernel": "Bash"
   },
   "source": [
    "## Step 1 call the samples"
   ]
  },
  {
   "cell_type": "code",
   "execution_count": 8,
   "id": "463645ee-4574-45ff-9d7c-c7c01e4d90e4",
   "metadata": {
    "kernel": "Bash"
   },
   "outputs": [
    {
     "name": "stdout",
     "output_type": "stream",
     "text": [
      "bash: cd: output: No such file or directory\n",
      "INFO: Running \u001b[32mcall_1\u001b[0m: Combine GVCF files\n",
      "INFO: \u001b[32mcall_1\u001b[0m is \u001b[32mcompleted\u001b[0m.\n",
      "INFO: \u001b[32mcall_1\u001b[0m output:   \u001b[32m/home/dmc2245/output/isabelle/cameroon.combined.vcf.gz\u001b[0m\n",
      "INFO: Running \u001b[32mcall_2\u001b[0m: Joint calling\n",
      "INFO: \u001b[32mcall_2\u001b[0m is \u001b[32mcompleted\u001b[0m.\n",
      "INFO: \u001b[32mcall_2\u001b[0m output:   \u001b[32m/home/dmc2245/output/isabelle/cameroon.vcf.gz\u001b[0m\n",
      "INFO: Workflow call (ID=wb3d2aead250cd0de) is executed successfully with 2 completed steps.\n",
      "\n"
     ]
    }
   ],
   "source": [
    "module load Singularity\n",
    "module load VCFTOOLS/0.1.17\n",
    "module load PLINK/1.9.10\n",
    "#/mnt/mfs/statgen/isabelle/African_BAM/African_VCF_files/Wave4_AFRbatch3_2\n",
    "\n",
    "sos run ~/project/bioworkflows/variant-calling/gatk_joint_calling.ipynb call \\\n",
    "    --container-option /mnt/mfs/statgen/containers/gatk4-annovar.sif \\\n",
    "    --vcf-prefix ~/output/isabelle/cameroon \\\n",
    "    --samples ~/output/isabelle/12242022_cameroon.samples.txt\\\n",
    "    --samples-dir ~/output/isabelle/ \\\n",
    "    --ref-genome /mnt/mfs/statgen/isabelle/REF/refs/resources_broad_hg38_v0_Homo_sapiens_assembly38.fasta\\\n",
    "    --cwd ~/output/isabelle/"
   ]
  },
  {
   "cell_type": "markdown",
   "id": "bc5d1bdf-fef4-4a7e-b41b-b37ff3ab5a66",
   "metadata": {
    "kernel": "Bash"
   },
   "source": [
    "## Step 2 Strict filtering"
   ]
  },
  {
   "cell_type": "code",
   "execution_count": 9,
   "id": "68eb1864-05dd-48cb-9fdc-501e9bbf5d51",
   "metadata": {
    "kernel": "Bash"
   },
   "outputs": [
    {
     "name": "stdout",
     "output_type": "stream",
     "text": [
      "INFO: Running \u001b[32mstrict_filter_1\u001b[0m: Split into SNP and INDEL for separate PASS filters\n",
      "INFO: \u001b[32mstrict_filter_1\u001b[0m (index=1) is \u001b[32mcompleted\u001b[0m.\n",
      "INFO: \u001b[32mstrict_filter_1\u001b[0m (index=0) is \u001b[32mcompleted\u001b[0m.\n",
      "INFO: \u001b[32mstrict_filter_1\u001b[0m output:   \u001b[32m/home/dmc2245/output/isabelle/cameroon.snp.vcf.gz /home/dmc2245/output/isabelle/cameroon.indel.vcf.gz in 2 groups\u001b[0m\n",
      "INFO: Running \u001b[32mstrict_filter_2\u001b[0m: PASS or filter for indels and SNPs (Note | not recommended for filters) Ignore MQRankSum warnings <- can only be calculated for het sites (not homs)\n",
      "INFO: \u001b[32mstrict_filter_2\u001b[0m (index=1) is \u001b[32mcompleted\u001b[0m.\n",
      "INFO: \u001b[32mstrict_filter_2\u001b[0m (index=0) is \u001b[32mcompleted\u001b[0m.\n",
      "INFO: \u001b[32mstrict_filter_2\u001b[0m output:   \u001b[32m/home/dmc2245/output/isabelle/cameroon.snp.filter.vcf.gz /home/dmc2245/output/isabelle/cameroon.indel.filter.vcf.gz in 2 groups\u001b[0m\n",
      "INFO: Running \u001b[32mstrict_filter_3\u001b[0m: Merge back SNP and INDEL\n",
      "INFO: \u001b[32mstrict_filter_3\u001b[0m is \u001b[32mcompleted\u001b[0m.\n",
      "INFO: \u001b[32mstrict_filter_3\u001b[0m output:   \u001b[32m/home/dmc2245/output/isabelle/cameroon.snp_indel.filter.vcf.gz\u001b[0m\n",
      "INFO: Running \u001b[32mstrict_filter_4\u001b[0m: remove non-PASS variants if wanted\n",
      "INFO: \u001b[32mstrict_filter_4\u001b[0m is \u001b[32mcompleted\u001b[0m.\n",
      "INFO: \u001b[32mstrict_filter_4\u001b[0m output:   \u001b[32m/home/dmc2245/output/isabelle/cameroon.snp_indel.filter.strict_QC.PASS.vcf.gz\u001b[0m\n",
      "INFO: Workflow strict_filter (ID=wa0c76fa8591651d9) is executed successfully with 4 completed steps and 6 completed substeps.\n",
      "\n"
     ]
    }
   ],
   "source": [
    "sos run ~/project/bioworkflows/variant-calling/gatk_joint_calling.ipynb strict_filter \\\n",
    "    --container-option /mnt/mfs/statgen/containers/gatk4-annovar.sif \\\n",
    "    --vcf-prefix ~/output/isabelle/cameroon \\\n",
    "    --cwd ~/output/isabelle/ \\\n",
    "    --vcf_filter 'basic'"
   ]
  },
  {
   "cell_type": "markdown",
   "id": "e1f819ff-2e04-41b2-bccf-50c5b808ebf7",
   "metadata": {
    "kernel": "Bash"
   },
   "source": [
    "## Step 3 Basic filtering"
   ]
  },
  {
   "cell_type": "code",
   "execution_count": 91,
   "id": "bb6d0be7-7cce-489e-970c-b26a52df42b2",
   "metadata": {
    "kernel": "Bash"
   },
   "outputs": [
    {
     "name": "stdout",
     "output_type": "stream",
     "text": [
      "INFO: Running \u001b[32mbasic_filter_1\u001b[0m: remove all coverage < 4x, strand bias and end of read bias\n",
      "INFO: \u001b[32mbasic_filter_1\u001b[0m is \u001b[32mcompleted\u001b[0m.\n",
      "INFO: \u001b[32mbasic_filter_1\u001b[0m output:   \u001b[32m/mnt/mfs/hgrcgrid/homes/dmc2245/output/isabelle/cameroon.snp_indel.filter.basic_QC.vcf.gz\u001b[0m\n",
      "INFO: Running \u001b[32mbasic_filter_2\u001b[0m: Remove non-PASS variants\n",
      "INFO: \u001b[32mbasic_filter_2\u001b[0m is \u001b[32mcompleted\u001b[0m.\n",
      "INFO: \u001b[32mbasic_filter_2\u001b[0m output:   \u001b[32m/mnt/mfs/hgrcgrid/homes/dmc2245/output/isabelle/cameroon.snp_indel.filter.basic_QC.PASS.vcf.gz\u001b[0m\n",
      "INFO: Workflow basic_filter (ID=w8b366121b0da509e) is executed successfully with 2 completed steps.\n",
      "\n"
     ]
    }
   ],
   "source": [
    "sos run ~/project/bioworkflows/variant-calling/gatk_joint_calling.ipynb basic_filter \\\n",
    "    --container-option /mnt/mfs/statgen/containers/gatk4-annovar.sif \\\n",
    "    --vcf-prefix ~/output/isabelle/cameroon \\\n",
    "    --ref-genome /mnt/mfs/statgen/isabelle/REF/refs/resources_broad_hg38_v0_Homo_sapiens_assembly38.fasta \\\n",
    "    --cwd ~/output/isabelle/\\\n",
    "    --vcf_filter 'basic'"
   ]
  },
  {
   "cell_type": "markdown",
   "id": "b8b6957f-1878-4109-b107-4f539a4ae847",
   "metadata": {
    "kernel": "Bash"
   },
   "source": [
    "## Step 4 VCF_QC\n",
    "\n",
    "I'm checking step by step that the code works and each one of the outputs"
   ]
  },
  {
   "cell_type": "code",
   "execution_count": 31,
   "id": "cd51facd-6836-427a-8863-4b696fb14b4a",
   "metadata": {
    "kernel": "Bash"
   },
   "outputs": [
    {
     "name": "stdout",
     "output_type": "stream",
     "text": [
      "INFO: Running \u001b[32mcheck relatedness\u001b[0m: QC VCF for relatedness\n",
      "INFO: \u001b[32mcheck relatedness\u001b[0m is \u001b[32mcompleted\u001b[0m.\n",
      "INFO: \u001b[32mcheck relatedness\u001b[0m output:   \u001b[32moutput/isabelle/vcf_qc/cameroon.snp_indel.filter.basic_QC.PASS.relatedness output/isabelle/vcf_qc/cameroon.snp_indel.filter.basic_QC.PASS.relatedness2\u001b[0m\n",
      "INFO: Workflow vcf_qc (ID=w4d4c161686a0819e) is executed successfully with 1 completed step.\n"
     ]
    }
   ],
   "source": [
    "module load Singularity\n",
    "module load VCFTOOLS/0.1.17\n",
    "module load PLINK/1.9.10\n",
    "sos run ~/project/bioworkflows/variant-calling/gatk_joint_calling.ipynb vcf_qc:1 \\\n",
    "    --vcf-prefix output/isabelle/cameroon \\\n",
    "    --vcf_filter 'basic' \\\n",
    "    --cwd ~/output/isabelle"
   ]
  },
  {
   "cell_type": "code",
   "execution_count": 32,
   "id": "fc6db1cf-a6d8-42c3-8a92-917ca70dc7ae",
   "metadata": {
    "kernel": "Bash"
   },
   "outputs": [
    {
     "name": "stdout",
     "output_type": "stream",
     "text": [
      "INFO: Running \u001b[32mcheck sex\u001b[0m: QC VCF for sex check\n",
      "INFO: \u001b[32mcheck sex\u001b[0m is \u001b[32mcompleted\u001b[0m.\n",
      "INFO: \u001b[32mcheck sex\u001b[0m output:   \u001b[32moutput/isabelle/vcf_qc/cameroon.snp_indel.filter.basic_QC.PASS.bed output/isabelle/vcf_qc/cameroon.snp_indel.filter.basic_QC.PASS.sex.sexcheck... (3 items)\u001b[0m\n",
      "INFO: Workflow vcf_qc (ID=w2faa936aaf6f432b) is executed successfully with 1 completed step.\n"
     ]
    }
   ],
   "source": [
    "sos run ~/project/bioworkflows/variant-calling/gatk_joint_calling.ipynb vcf_qc:2 \\\n",
    "    --vcf-prefix ~/output/isabelle/cameroon \\\n",
    "    --vcf_filter 'basic' \\\n",
    "    --cwd ~/output/isabelle"
   ]
  },
  {
   "cell_type": "code",
   "execution_count": 33,
   "id": "0e091716-5b53-4612-a385-2f9535821209",
   "metadata": {
    "kernel": "Bash"
   },
   "outputs": [
    {
     "name": "stdout",
     "output_type": "stream",
     "text": [
      "INFO: Running \u001b[32mIBD\u001b[0m: QC VCF for IBD\n",
      "INFO: \u001b[32mIBD\u001b[0m is \u001b[32mcompleted\u001b[0m.\n",
      "INFO: \u001b[32mIBD\u001b[0m output:   \u001b[32moutput/isabelle/vcf_qc/cameroon.snp_indel.filter.basic_QC.PASS.IBD.genome output/isabelle/vcf_qc/cameroon.snp_indel.filter.basic_QC.PASS.HET.het... (5 items)\u001b[0m\n",
      "INFO: Workflow vcf_qc (ID=w1ba034051a058d38) is executed successfully with 1 completed step.\n"
     ]
    }
   ],
   "source": [
    "sos run ~/project/bioworkflows/variant-calling/gatk_joint_calling.ipynb vcf_qc:3 \\\n",
    "    --vcf-prefix ~/output/isabelle/cameroon \\\n",
    "    --vcf_filter 'basic' \\\n",
    "    --cwd ~/output/isabelle"
   ]
  },
  {
   "cell_type": "code",
   "execution_count": 34,
   "id": "59d7cc8d-98f7-4dcc-abfb-0f7212ab8716",
   "metadata": {
    "kernel": "Bash"
   },
   "outputs": [
    {
     "name": "stdout",
     "output_type": "stream",
     "text": [
      "INFO: Running \u001b[32mIBD\u001b[0m: QC VCF for IBD\n",
      "INFO: \u001b[32mvcf_qc_3\u001b[0m (index=0) is \u001b[32mignored\u001b[0m due to saved signature\n",
      "INFO: \u001b[32mIBD\u001b[0m output:   \u001b[32moutput/isabelle/vcf_qc/cameroon.snp_indel.filter.basic_QC.PASS.IBD.genome output/isabelle/vcf_qc/cameroon.snp_indel.filter.basic_QC.PASS.HET.het... (5 items)\u001b[0m\n",
      "INFO: Running \u001b[32mvcftools\u001b[0m: QC VCF for relatedness\n",
      "INFO: \u001b[32mvcftools\u001b[0m is \u001b[32mcompleted\u001b[0m.\n",
      "INFO: \u001b[32mvcftools\u001b[0m output:   \u001b[32moutput/isabelle/vcf_qc/cameroon.snp_indel.filter.basic_QC.PASS.C.VCF.C.relatedness output/isabelle/vcf_qc/cameroon.snp_indel.filter.basic_QC.PASS.C.VCF.C.2.relatedness2\u001b[0m\n",
      "INFO: Workflow vcf_qc (ID=w104f7171c77b837f) is executed successfully with 1 completed step and 1 ignored step.\n"
     ]
    }
   ],
   "source": [
    "sos run ~/project/bioworkflows/variant-calling/gatk_joint_calling.ipynb vcf_qc:4 \\\n",
    "    --vcf-prefix ~/output/isabelle/cameroon \\\n",
    "    --vcf_filter 'basic' \\\n",
    "    --cwd ~/output/isabelle"
   ]
  },
  {
   "cell_type": "code",
   "execution_count": 47,
   "id": "30e32739-ab6e-46b8-819d-a4d505bfd471",
   "metadata": {
    "kernel": "Bash"
   },
   "outputs": [
    {
     "name": "stdout",
     "output_type": "stream",
     "text": [
      "INFO: Running \u001b[32mhomozygosity mapping\u001b[0m: QC VCF for homozygosity mapping\n",
      "INFO: \u001b[32mhomozygosity mapping\u001b[0m is \u001b[32mcompleted\u001b[0m.\n",
      "INFO: \u001b[32mhomozygosity mapping\u001b[0m output:   \u001b[32moutput/isabelle/vcf_qc/cameroon.snp_indel.filter.basic_QC.PASS.HOM.hom\u001b[0m\n",
      "INFO: Workflow vcf_qc (ID=wd37d3fbaecacdbeb) is executed successfully with 1 completed step.\n"
     ]
    }
   ],
   "source": [
    "sos run ~/project/bioworkflows/variant-calling/gatk_joint_calling.ipynb vcf_qc:5 \\\n",
    "    --vcf-prefix ~/output/isabelle/cameroon \\\n",
    "    --vcf_filter 'basic' \\\n",
    "    --cwd ~/output/isabelle"
   ]
  },
  {
   "cell_type": "code",
   "execution_count": 15,
   "id": "27e3622c-8519-4514-b9ee-ec87ecc14cd1",
   "metadata": {
    "kernel": "Bash"
   },
   "outputs": [
    {
     "name": "stdout",
     "output_type": "stream",
     "text": [
      "INFO: Running \u001b[32mcheck sex\u001b[0m: QC VCF for sex check\n",
      "INFO: Running \u001b[32mcheck relatedness\u001b[0m: QC VCF for relatedness\n",
      "INFO: \u001b[32mcheck relatedness\u001b[0m is \u001b[32mcompleted\u001b[0m.\n",
      "INFO: \u001b[32mcheck relatedness\u001b[0m output:   \u001b[32m/home/dmc2245/output/isabelle/vcf_qc/cameroon.snp_indel.filter.basic_QC.PASS.relatedness /home/dmc2245/output/isabelle/vcf_qc/cameroon.snp_indel.filter.basic_QC.PASS.relatedness2\u001b[0m\n",
      "INFO: \u001b[32mcheck sex\u001b[0m is \u001b[32mcompleted\u001b[0m.\n",
      "INFO: \u001b[32mcheck sex\u001b[0m output:   \u001b[32m/home/dmc2245/output/isabelle/vcf_qc/cameroon.snp_indel.filter.basic_QC.PASS.bed\u001b[0m\n",
      "INFO: Running \u001b[32mIBD\u001b[0m: QC VCF for IBD\n",
      "INFO: \u001b[32mIBD\u001b[0m is \u001b[32mcompleted\u001b[0m.\n",
      "INFO: \u001b[32mIBD\u001b[0m output:   \u001b[32m/home/dmc2245/output/isabelle/vcf_qc/cameroon.snp_indel.filter.basic_QC.PASS.IBD.genome /home/dmc2245/output/isabelle/vcf_qc/cameroon.snp_indel.filter.basic_QC.PASS.HET.het... (5 items)\u001b[0m\n",
      "INFO: Running \u001b[32mvcftools\u001b[0m: QC VCF for relatedness\n",
      "INFO: \u001b[32mvcftools\u001b[0m is \u001b[32mcompleted\u001b[0m.\n",
      "INFO: \u001b[32mvcftools\u001b[0m output:   \u001b[32m/home/dmc2245/output/isabelle/vcf_qc/cameroon.snp_indel.filter.basic_QC.PASS.C.VCF.C.relatedness /home/dmc2245/output/isabelle/vcf_qc/cameroon.snp_indel.filter.basic_QC.PASS.C.VCF.C.2.relatedness2\u001b[0m\n",
      "INFO: Running \u001b[32mhomozygosity mapping\u001b[0m: QC VCF for homozygosity mapping\n",
      "INFO: \u001b[32mhomozygosity mapping\u001b[0m is \u001b[32mcompleted\u001b[0m.\n",
      "INFO: \u001b[32mhomozygosity mapping\u001b[0m output:   \u001b[32m/home/dmc2245/output/isabelle/vcf_qc/cameroon.snp_indel.filter.basic_QC.PASS.HOM.hom\u001b[0m\n",
      "INFO: Workflow vcf_qc (ID=w935e05131a2af24e) is executed successfully with 5 completed steps.\n",
      "\n"
     ]
    }
   ],
   "source": [
    "module load Singularity\n",
    "module load VCFTOOLS/0.1.17\n",
    "module load PLINK/1.9.10\n",
    "sos run ~/project/bioworkflows/variant-calling/gatk_joint_calling.ipynb vcf_qc \\\n",
    "    --vcf-prefix ~/output/isabelle/cameroon \\\n",
    "    --vcf_filter 'basic' \\\n",
    "    --cwd ~/output/isabelle"
   ]
  },
  {
   "cell_type": "code",
   "execution_count": null,
   "id": "63755383-9ec8-44d5-aad3-c1aa6262592e",
   "metadata": {
    "kernel": "Bash"
   },
   "outputs": [],
   "source": []
  }
 ],
 "metadata": {
  "kernelspec": {
   "display_name": "SoS",
   "language": "sos",
   "name": "sos"
  },
  "language_info": {
   "codemirror_mode": "sos",
   "file_extension": ".sos",
   "mimetype": "text/x-sos",
   "name": "sos",
   "nbconvert_exporter": "sos_notebook.converter.SoS_Exporter",
   "pygments_lexer": "sos"
  },
  "sos": {
   "kernels": [
    [
     "Bash",
     "calysto_bash",
     "Bash",
     "#E6EEFF",
     "shell"
    ]
   ],
   "version": "0.22.6"
  }
 },
 "nbformat": 4,
 "nbformat_minor": 5
}
